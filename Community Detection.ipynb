{
 "cells": [
  {
   "cell_type": "code",
   "execution_count": 1,
   "metadata": {},
   "outputs": [
    {
     "name": "stdout",
     "output_type": "stream",
     "text": [
      "Requirement already satisfied: py2neo in c:\\programdata\\anaconda3\\lib\\site-packages (4.3.0)\n",
      "Requirement already satisfied: pandas in c:\\programdata\\anaconda3\\lib\\site-packages (0.24.2)\n",
      "Requirement already satisfied: matplotlib in c:\\programdata\\anaconda3\\lib\\site-packages (3.1.0)\n",
      "Requirement already satisfied: neobolt~=1.7.12 in c:\\programdata\\anaconda3\\lib\\site-packages (from py2neo) (1.7.13)\n",
      "Requirement already satisfied: pygments~=2.3.1 in c:\\programdata\\anaconda3\\lib\\site-packages (from py2neo) (2.3.1)\n",
      "Requirement already satisfied: urllib3<1.25,>=1.23 in c:\\programdata\\anaconda3\\lib\\site-packages (from py2neo) (1.24.2)\n",
      "Requirement already satisfied: pytz in c:\\programdata\\anaconda3\\lib\\site-packages (from py2neo) (2019.1)\n",
      "Requirement already satisfied: colorama in c:\\programdata\\anaconda3\\lib\\site-packages (from py2neo) (0.4.1)\n",
      "Requirement already satisfied: click==7.0 in c:\\programdata\\anaconda3\\lib\\site-packages (from py2neo) (7.0)\n",
      "Requirement already satisfied: certifi in c:\\programdata\\anaconda3\\lib\\site-packages (from py2neo) (2019.6.16)\n",
      "Requirement already satisfied: prompt-toolkit~=2.0.7 in c:\\programdata\\anaconda3\\lib\\site-packages (from py2neo) (2.0.9)\n",
      "Requirement already satisfied: neotime~=1.7.4 in c:\\programdata\\anaconda3\\lib\\site-packages (from py2neo) (1.7.4)\n",
      "Requirement already satisfied: python-dateutil>=2.5.0 in c:\\programdata\\anaconda3\\lib\\site-packages (from pandas) (2.8.0)\n",
      "Requirement already satisfied: numpy>=1.12.0 in c:\\programdata\\anaconda3\\lib\\site-packages (from pandas) (1.16.4)\n",
      "Requirement already satisfied: cycler>=0.10 in c:\\programdata\\anaconda3\\lib\\site-packages (from matplotlib) (0.10.0)\n",
      "Requirement already satisfied: kiwisolver>=1.0.1 in c:\\programdata\\anaconda3\\lib\\site-packages (from matplotlib) (1.1.0)\n",
      "Requirement already satisfied: pyparsing!=2.0.4,!=2.1.2,!=2.1.6,>=2.0.1 in c:\\programdata\\anaconda3\\lib\\site-packages (from matplotlib) (2.4.0)\n",
      "Requirement already satisfied: wcwidth in c:\\programdata\\anaconda3\\lib\\site-packages (from prompt-toolkit~=2.0.7->py2neo) (0.1.7)\n",
      "Requirement already satisfied: six>=1.9.0 in c:\\programdata\\anaconda3\\lib\\site-packages (from prompt-toolkit~=2.0.7->py2neo) (1.12.0)\n",
      "Requirement already satisfied: setuptools in c:\\programdata\\anaconda3\\lib\\site-packages (from kiwisolver>=1.0.1->matplotlib) (41.0.1)\n"
     ]
    }
   ],
   "source": [
    "!pip install py2neo pandas matplotlib"
   ]
  },
  {
   "cell_type": "code",
   "execution_count": 2,
   "metadata": {},
   "outputs": [],
   "source": [
    "from py2neo import Graph\n",
    "import pandas as pd\n",
    "\n",
    "import matplotlib \n",
    "import matplotlib.pyplot as plt\n",
    "\n",
    "plt.style.use('fivethirtyeight')\n",
    "pd.set_option('display.float_format', lambda x: '%.3f' % x)\n",
    "\n",
    "import pandas as pd\n",
    "from collections import Counter"
   ]
  },
  {
   "cell_type": "code",
   "execution_count": 3,
   "metadata": {},
   "outputs": [],
   "source": [
    "graph = Graph(\"bolt://localhost:7687\", auth=(\"neo4j\", \"neo\"))"
   ]
  },
  {
   "cell_type": "code",
   "execution_count": 4,
   "metadata": {},
   "outputs": [
    {
     "data": {
      "text/plain": [
       "constraints_added: 0\n",
       "constraints_removed: 0\n",
       "contained_updates: True\n",
       "indexes_added: 0\n",
       "indexes_removed: 0\n",
       "labels_added: 1010\n",
       "labels_removed: 0\n",
       "nodes_created: 1010\n",
       "nodes_deleted: 0\n",
       "properties_set: 151500\n",
       "relationships_created: 0\n",
       "relationships_deleted: 0"
      ]
     },
     "execution_count": 4,
     "metadata": {},
     "output_type": "execute_result"
    }
   ],
   "source": [
    "graph.run(\"\"\"\n",
    "LOAD CSV WITH HEADERS FROM \"file:///responses.csv\" as row\n",
    "CREATE (p:Person)\n",
    "SET p += row\n",
    "\"\"\").stats()"
   ]
  },
  {
   "cell_type": "markdown",
   "metadata": {},
   "source": [
    "Most of the answers range from one to five where five is defined as “Strongly agree” and one as “Strongly disagree”. They appear as strings in the csv file and we have to convert them to integers first."
   ]
  },
  {
   "cell_type": "code",
   "execution_count": 6,
   "metadata": {},
   "outputs": [
    {
     "data": {
      "text/plain": [
       "constraints_added: 0\n",
       "constraints_removed: 0\n",
       "contained_updates: False\n",
       "indexes_added: 0\n",
       "indexes_removed: 0\n",
       "labels_added: 0\n",
       "labels_removed: 0\n",
       "nodes_created: 0\n",
       "nodes_deleted: 0\n",
       "properties_set: 0\n",
       "relationships_created: 0\n",
       "relationships_deleted: 0"
      ]
     },
     "execution_count": 6,
     "metadata": {},
     "output_type": "execute_result"
    }
   ],
   "source": [
    "graph.run(\"\"\"\n",
    "MATCH (p:Person)\n",
    "UNWIND keys(p) as key\n",
    "WITH p,key where not key in ['Gender',\n",
    "                'Left - right handed',\n",
    "                'Lying','Alcohol',\n",
    "                'Education','Smoking',\n",
    "                'House - block of flats',\n",
    "                'Village - town','Punctuality',\n",
    "                'Internet usage']\n",
    "CALL apoc.create.setProperty(p, key, toInteger(p[key])) YIELD node\n",
    "RETURN distinct 'done';\n",
    "\"\"\").stats()"
   ]
  },
  {
   "cell_type": "markdown",
   "metadata": {},
   "source": [
    "Some of the answers are categorical. An example is the alcohol question, where possible answers are “never”, “social drinker” and “drink a lot”.\n",
    "As we would like to convert some of them to vectors let’s examine all the possible answers they have."
   ]
  },
  {
   "cell_type": "code",
   "execution_count": 7,
   "metadata": {},
   "outputs": [
    {
     "data": {
      "text/html": [
       "<div>\n",
       "<style scoped>\n",
       "    .dataframe tbody tr th:only-of-type {\n",
       "        vertical-align: middle;\n",
       "    }\n",
       "\n",
       "    .dataframe tbody tr th {\n",
       "        vertical-align: top;\n",
       "    }\n",
       "\n",
       "    .dataframe thead th {\n",
       "        text-align: right;\n",
       "    }\n",
       "</style>\n",
       "<table border=\"1\" class=\"dataframe\">\n",
       "  <thead>\n",
       "    <tr style=\"text-align: right;\">\n",
       "      <th></th>\n",
       "      <th>property</th>\n",
       "      <th>unique_values</th>\n",
       "    </tr>\n",
       "  </thead>\n",
       "  <tbody>\n",
       "    <tr>\n",
       "      <th>0</th>\n",
       "      <td>Gender</td>\n",
       "      <td>[female, male]</td>\n",
       "    </tr>\n",
       "    <tr>\n",
       "      <th>1</th>\n",
       "      <td>Left - right handed</td>\n",
       "      <td>[right handed, left handed]</td>\n",
       "    </tr>\n",
       "    <tr>\n",
       "      <th>2</th>\n",
       "      <td>Lying</td>\n",
       "      <td>[never, sometimes, only to avoid hurting someo...</td>\n",
       "    </tr>\n",
       "    <tr>\n",
       "      <th>3</th>\n",
       "      <td>Alcohol</td>\n",
       "      <td>[drink a lot, social drinker, never]</td>\n",
       "    </tr>\n",
       "    <tr>\n",
       "      <th>4</th>\n",
       "      <td>Education</td>\n",
       "      <td>[college/bachelor degree, secondary school, pr...</td>\n",
       "    </tr>\n",
       "    <tr>\n",
       "      <th>5</th>\n",
       "      <td>Smoking</td>\n",
       "      <td>[never smoked, tried smoking, former smoker, c...</td>\n",
       "    </tr>\n",
       "    <tr>\n",
       "      <th>6</th>\n",
       "      <td>House - block of flats</td>\n",
       "      <td>[block of flats, house/bungalow]</td>\n",
       "    </tr>\n",
       "    <tr>\n",
       "      <th>7</th>\n",
       "      <td>Village - town</td>\n",
       "      <td>[village, city]</td>\n",
       "    </tr>\n",
       "    <tr>\n",
       "      <th>8</th>\n",
       "      <td>Punctuality</td>\n",
       "      <td>[i am always on time, i am often early, i am o...</td>\n",
       "    </tr>\n",
       "    <tr>\n",
       "      <th>9</th>\n",
       "      <td>Internet usage</td>\n",
       "      <td>[few hours a day, most of the day, less than a...</td>\n",
       "    </tr>\n",
       "  </tbody>\n",
       "</table>\n",
       "</div>"
      ],
      "text/plain": [
       "                 property                                      unique_values\n",
       "0                  Gender                                     [female, male]\n",
       "1     Left - right handed                        [right handed, left handed]\n",
       "2                   Lying  [never, sometimes, only to avoid hurting someo...\n",
       "3                 Alcohol               [drink a lot, social drinker, never]\n",
       "4               Education  [college/bachelor degree, secondary school, pr...\n",
       "5                 Smoking  [never smoked, tried smoking, former smoker, c...\n",
       "6  House - block of flats                   [block of flats, house/bungalow]\n",
       "7          Village - town                                    [village, city]\n",
       "8             Punctuality  [i am always on time, i am often early, i am o...\n",
       "9          Internet usage  [few hours a day, most of the day, less than a..."
      ]
     },
     "execution_count": 7,
     "metadata": {},
     "output_type": "execute_result"
    }
   ],
   "source": [
    "graph.run(\"\"\"\n",
    "MATCH (p:Person)\n",
    "UNWIND ['Gender',\n",
    "        'Left - right handed',\n",
    "        'Lying','Alcohol',\n",
    "        'Education','Smoking',\n",
    "        'House - block of flats',\n",
    "        'Village - town','Punctuality',\n",
    "        'Internet usage'] as property\n",
    "RETURN property,collect(distinct(p[property])) as unique_values;\n",
    "\"\"\").to_data_frame()"
   ]
  },
  {
   "cell_type": "markdown",
   "metadata": {},
   "source": [
    "Let’s vectorize gender, internet and alcohol answers. We will scale them between one to five to match the integer answers range."
   ]
  },
  {
   "cell_type": "markdown",
   "metadata": {},
   "source": [
    "Gender encoding"
   ]
  },
  {
   "cell_type": "code",
   "execution_count": 8,
   "metadata": {},
   "outputs": [
    {
     "data": {
      "text/plain": [
       "constraints_added: 0\n",
       "constraints_removed: 0\n",
       "contained_updates: True\n",
       "indexes_added: 0\n",
       "indexes_removed: 0\n",
       "labels_added: 0\n",
       "labels_removed: 0\n",
       "nodes_created: 0\n",
       "nodes_deleted: 0\n",
       "properties_set: 1010\n",
       "relationships_created: 0\n",
       "relationships_deleted: 0"
      ]
     },
     "execution_count": 8,
     "metadata": {},
     "output_type": "execute_result"
    }
   ],
   "source": [
    "graph.run(\"\"\"\n",
    "MATCH (p:Person)\n",
    "WITH p, CASE p['Gender'] WHEN 'female' THEN 1\n",
    "                         WHEN 'male' THEN 5\n",
    "                         ELSE 3\n",
    "                         END as gender\n",
    "SET p.Gender_vec = gender;\n",
    "\"\"\").stats()"
   ]
  },
  {
   "cell_type": "markdown",
   "metadata": {},
   "source": [
    "Internet encoding"
   ]
  },
  {
   "cell_type": "code",
   "execution_count": 9,
   "metadata": {},
   "outputs": [
    {
     "data": {
      "text/plain": [
       "constraints_added: 0\n",
       "constraints_removed: 0\n",
       "contained_updates: True\n",
       "indexes_added: 0\n",
       "indexes_removed: 0\n",
       "labels_added: 0\n",
       "labels_removed: 0\n",
       "nodes_created: 0\n",
       "nodes_deleted: 0\n",
       "properties_set: 1010\n",
       "relationships_created: 0\n",
       "relationships_deleted: 0"
      ]
     },
     "execution_count": 9,
     "metadata": {},
     "output_type": "execute_result"
    }
   ],
   "source": []
  },
  {
   "cell_type": "markdown",
   "metadata": {},
   "source": [
    "Alcohol encoding"
   ]
  },
  {
   "cell_type": "code",
   "execution_count": 10,
   "metadata": {},
   "outputs": [
    {
     "data": {
      "text/plain": [
       "constraints_added: 0\n",
       "constraints_removed: 0\n",
       "contained_updates: True\n",
       "indexes_added: 0\n",
       "indexes_removed: 0\n",
       "labels_added: 0\n",
       "labels_removed: 0\n",
       "nodes_created: 0\n",
       "nodes_deleted: 0\n",
       "properties_set: 1010\n",
       "relationships_created: 0\n",
       "relationships_deleted: 0"
      ]
     },
     "execution_count": 10,
     "metadata": {},
     "output_type": "execute_result"
    }
   ],
   "source": [
    "graph.run(\"\"\"\n",
    "MATCH (p:Person)\n",
    "WITH p, CASE p['Alcohol'] WHEN 'never' THEN 1\n",
    "                          WHEN 'social drinker' THEN 3\n",
    "                          WHEN 'drink a lot' THEN 5\n",
    "                          ELSE 3 END as alcohol\n",
    "SET p.Alcohol_vec = alcohol;\n",
    "\"\"\").stats()"
   ]
  },
  {
   "cell_type": "markdown",
   "metadata": {},
   "source": [
    "Consider a variable in our dataset where all the observations have the same value, say 1. If we use this variable, do you think it can improve the model we will build? The answer is no, because this variable will have zero variance.\n",
    "We will use the standard deviation metric, which is just the square root of the variance."
   ]
  },
  {
   "cell_type": "code",
   "execution_count": 11,
   "metadata": {},
   "outputs": [
    {
     "data": {
      "text/html": [
       "<div>\n",
       "<style scoped>\n",
       "    .dataframe tbody tr th:only-of-type {\n",
       "        vertical-align: middle;\n",
       "    }\n",
       "\n",
       "    .dataframe tbody tr th {\n",
       "        vertical-align: top;\n",
       "    }\n",
       "\n",
       "    .dataframe thead th {\n",
       "        text-align: right;\n",
       "    }\n",
       "</style>\n",
       "<table border=\"1\" class=\"dataframe\">\n",
       "  <thead>\n",
       "    <tr style=\"text-align: right;\">\n",
       "      <th></th>\n",
       "      <th>average</th>\n",
       "      <th>key</th>\n",
       "      <th>std</th>\n",
       "    </tr>\n",
       "  </thead>\n",
       "  <tbody>\n",
       "    <tr>\n",
       "      <th>0</th>\n",
       "      <td>3.292</td>\n",
       "      <td>Personality</td>\n",
       "      <td>0.643</td>\n",
       "    </tr>\n",
       "    <tr>\n",
       "      <th>1</th>\n",
       "      <td>4.732</td>\n",
       "      <td>Music</td>\n",
       "      <td>0.664</td>\n",
       "    </tr>\n",
       "    <tr>\n",
       "      <th>2</th>\n",
       "      <td>3.297</td>\n",
       "      <td>Dreams</td>\n",
       "      <td>0.683</td>\n",
       "    </tr>\n",
       "    <tr>\n",
       "      <th>3</th>\n",
       "      <td>4.614</td>\n",
       "      <td>Movies</td>\n",
       "      <td>0.695</td>\n",
       "    </tr>\n",
       "    <tr>\n",
       "      <th>4</th>\n",
       "      <td>4.558</td>\n",
       "      <td>Fun with friends</td>\n",
       "      <td>0.737</td>\n",
       "    </tr>\n",
       "    <tr>\n",
       "      <th>5</th>\n",
       "      <td>4.495</td>\n",
       "      <td>Comedy</td>\n",
       "      <td>0.780</td>\n",
       "    </tr>\n",
       "    <tr>\n",
       "      <th>6</th>\n",
       "      <td>3.839</td>\n",
       "      <td>Internet_vec</td>\n",
       "      <td>0.821</td>\n",
       "    </tr>\n",
       "    <tr>\n",
       "      <th>7</th>\n",
       "      <td>3.706</td>\n",
       "      <td>Happiness in life</td>\n",
       "      <td>0.824</td>\n",
       "    </tr>\n",
       "    <tr>\n",
       "      <th>8</th>\n",
       "      <td>3.328</td>\n",
       "      <td>Slow songs or fast songs</td>\n",
       "      <td>0.834</td>\n",
       "    </tr>\n",
       "    <tr>\n",
       "      <th>9</th>\n",
       "      <td>3.266</td>\n",
       "      <td>Parents' advice</td>\n",
       "      <td>0.866</td>\n",
       "    </tr>\n",
       "  </tbody>\n",
       "</table>\n",
       "</div>"
      ],
      "text/plain": [
       "   average                       key   std\n",
       "0    3.292               Personality 0.643\n",
       "1    4.732                     Music 0.664\n",
       "2    3.297                    Dreams 0.683\n",
       "3    4.614                    Movies 0.695\n",
       "4    4.558          Fun with friends 0.737\n",
       "5    4.495                    Comedy 0.780\n",
       "6    3.839              Internet_vec 0.821\n",
       "7    3.706         Happiness in life 0.824\n",
       "8    3.328  Slow songs or fast songs 0.834\n",
       "9    3.266           Parents' advice 0.866"
      ]
     },
     "execution_count": 11,
     "metadata": {},
     "output_type": "execute_result"
    }
   ],
   "source": [
    "graph.run(\"\"\"\n",
    "MATCH (p:Person)\n",
    "WITH p LIMIT 1\n",
    "WITH filter(x in keys(p) where not x in ['Gender','Left - right handed','Lying','Alcohol','Education','Smoking','House - block of flats','Village - town','Punctuality','Internet usage']) as all_keys\n",
    "UNWIND all_keys as key\n",
    "MATCH (p:Person)\n",
    "RETURN key,avg(p[key]) as average,stdev(p[key]) as std \n",
    "ORDER BY std ASC LIMIT 10;\n",
    "\"\"\").to_data_frame()"
   ]
  },
  {
   "cell_type": "markdown",
   "metadata": {},
   "source": [
    "We can observe that everybody likes to listen to music, watch movies and have fun with friends.\n",
    "Due to the low variance, we will eliminate the following questions from our further analysis:\n",
    "“Personality”\n",
    "“Music”\n",
    "“Dreams”\n",
    "“Movies”\n",
    "“Fun with friends”\n",
    "“Comedy”"
   ]
  },
  {
   "cell_type": "markdown",
   "metadata": {},
   "source": [
    "High correlation filter\n",
    "High correlation between two variables means they have similar trends and are likely to carry similar information. This can bring down the performance of some models drastically (linear and logistic regression models, for instance).\n",
    "source\n",
    "We will use the Pearson correlation coefficient for this task. Pearson correlation adjusts for different location and scale of features, so any kind of linear scaling (normalization) is unnecessary.\n",
    "Find top 10 correlations for gender feature."
   ]
  },
  {
   "cell_type": "code",
   "execution_count": 12,
   "metadata": {},
   "outputs": [
    {
     "data": {
      "text/html": [
       "<div>\n",
       "<style scoped>\n",
       "    .dataframe tbody tr th:only-of-type {\n",
       "        vertical-align: middle;\n",
       "    }\n",
       "\n",
       "    .dataframe tbody tr th {\n",
       "        vertical-align: top;\n",
       "    }\n",
       "\n",
       "    .dataframe thead th {\n",
       "        text-align: right;\n",
       "    }\n",
       "</style>\n",
       "<table border=\"1\" class=\"dataframe\">\n",
       "  <thead>\n",
       "    <tr style=\"text-align: right;\">\n",
       "      <th></th>\n",
       "      <th>key_1</th>\n",
       "      <th>key_2</th>\n",
       "      <th>pearson</th>\n",
       "    </tr>\n",
       "  </thead>\n",
       "  <tbody>\n",
       "    <tr>\n",
       "      <th>0</th>\n",
       "      <td>Gender_vec</td>\n",
       "      <td>Weight</td>\n",
       "      <td>0.542</td>\n",
       "    </tr>\n",
       "    <tr>\n",
       "      <th>1</th>\n",
       "      <td>Gender_vec</td>\n",
       "      <td>PC</td>\n",
       "      <td>0.460</td>\n",
       "    </tr>\n",
       "    <tr>\n",
       "      <th>2</th>\n",
       "      <td>Gender_vec</td>\n",
       "      <td>Cars</td>\n",
       "      <td>0.438</td>\n",
       "    </tr>\n",
       "    <tr>\n",
       "      <th>3</th>\n",
       "      <td>Gender_vec</td>\n",
       "      <td>Action</td>\n",
       "      <td>0.409</td>\n",
       "    </tr>\n",
       "    <tr>\n",
       "      <th>4</th>\n",
       "      <td>Gender_vec</td>\n",
       "      <td>War</td>\n",
       "      <td>0.407</td>\n",
       "    </tr>\n",
       "    <tr>\n",
       "      <th>5</th>\n",
       "      <td>Gender_vec</td>\n",
       "      <td>Science and technology</td>\n",
       "      <td>0.358</td>\n",
       "    </tr>\n",
       "    <tr>\n",
       "      <th>6</th>\n",
       "      <td>Gender_vec</td>\n",
       "      <td>Western</td>\n",
       "      <td>0.348</td>\n",
       "    </tr>\n",
       "    <tr>\n",
       "      <th>7</th>\n",
       "      <td>Gender_vec</td>\n",
       "      <td>Sci-fi</td>\n",
       "      <td>0.309</td>\n",
       "    </tr>\n",
       "    <tr>\n",
       "      <th>8</th>\n",
       "      <td>Gender_vec</td>\n",
       "      <td>Physics</td>\n",
       "      <td>0.305</td>\n",
       "    </tr>\n",
       "    <tr>\n",
       "      <th>9</th>\n",
       "      <td>Gender_vec</td>\n",
       "      <td>Height</td>\n",
       "      <td>0.281</td>\n",
       "    </tr>\n",
       "  </tbody>\n",
       "</table>\n",
       "</div>"
      ],
      "text/plain": [
       "        key_1                   key_2  pearson\n",
       "0  Gender_vec                  Weight    0.542\n",
       "1  Gender_vec                      PC    0.460\n",
       "2  Gender_vec                    Cars    0.438\n",
       "3  Gender_vec                  Action    0.409\n",
       "4  Gender_vec                     War    0.407\n",
       "5  Gender_vec  Science and technology    0.358\n",
       "6  Gender_vec                 Western    0.348\n",
       "7  Gender_vec                  Sci-fi    0.309\n",
       "8  Gender_vec                 Physics    0.305\n",
       "9  Gender_vec                  Height    0.281"
      ]
     },
     "execution_count": 12,
     "metadata": {},
     "output_type": "execute_result"
    }
   ],
   "source": [
    "graph.run(\"\"\"\n",
    "MATCH (p:Person)\n",
    "WITH p LIMIT 1\n",
    "WITH filter(x in keys(p) where not x in ['Gender','Left - right handed','Lying','Alcohol','Education','Smoking','House - block of flats','Village - town','Punctuality','Internet usage','Personality','Music','Dreams','Movies','Fun with friends','Comedy']) as all_keys\n",
    "MATCH (p1:Person)\n",
    "UNWIND ['Gender_vec'] as key_1\n",
    "UNWIND all_keys as key_2\n",
    "WITH key_1,key_2, collect(coalesce(p1[key_1],0)) as vector_1,collect(coalesce(p1[key_2] ,0)) as vector_2\n",
    "WHERE key_1 <> key_2\n",
    "RETURN key_1,key_2, algo.similarity.pearson(vector_1, vector_2) as pearson\n",
    "ORDER BY pearson DESC limit 10;\n",
    "\"\"\").to_data_frame()"
   ]
  },
  {
   "cell_type": "markdown",
   "metadata": {},
   "source": [
    "Most correlated feature to gender is weight, which makes sense. The list includes some other stereotypical gender differences like the preference for cars, action, and PC.\n",
    "Let’s now calculate the Pearson correlation between all the features."
   ]
  },
  {
   "cell_type": "code",
   "execution_count": 13,
   "metadata": {},
   "outputs": [
    {
     "data": {
      "text/html": [
       "<div>\n",
       "<style scoped>\n",
       "    .dataframe tbody tr th:only-of-type {\n",
       "        vertical-align: middle;\n",
       "    }\n",
       "\n",
       "    .dataframe tbody tr th {\n",
       "        vertical-align: top;\n",
       "    }\n",
       "\n",
       "    .dataframe thead th {\n",
       "        text-align: right;\n",
       "    }\n",
       "</style>\n",
       "<table border=\"1\" class=\"dataframe\">\n",
       "  <thead>\n",
       "    <tr style=\"text-align: right;\">\n",
       "      <th></th>\n",
       "      <th>key_1</th>\n",
       "      <th>key_2</th>\n",
       "      <th>pearson</th>\n",
       "    </tr>\n",
       "  </thead>\n",
       "  <tbody>\n",
       "    <tr>\n",
       "      <th>0</th>\n",
       "      <td>Medicine</td>\n",
       "      <td>Biology</td>\n",
       "      <td>0.675</td>\n",
       "    </tr>\n",
       "    <tr>\n",
       "      <th>1</th>\n",
       "      <td>Chemistry</td>\n",
       "      <td>Biology</td>\n",
       "      <td>0.658</td>\n",
       "    </tr>\n",
       "    <tr>\n",
       "      <th>2</th>\n",
       "      <td>Fantasy/Fairy tales</td>\n",
       "      <td>Animated</td>\n",
       "      <td>0.651</td>\n",
       "    </tr>\n",
       "    <tr>\n",
       "      <th>3</th>\n",
       "      <td>Shopping centres</td>\n",
       "      <td>Shopping</td>\n",
       "      <td>0.644</td>\n",
       "    </tr>\n",
       "    <tr>\n",
       "      <th>4</th>\n",
       "      <td>Medicine</td>\n",
       "      <td>Chemistry</td>\n",
       "      <td>0.612</td>\n",
       "    </tr>\n",
       "    <tr>\n",
       "      <th>5</th>\n",
       "      <td>Physics</td>\n",
       "      <td>Mathematics</td>\n",
       "      <td>0.587</td>\n",
       "    </tr>\n",
       "    <tr>\n",
       "      <th>6</th>\n",
       "      <td>Opera</td>\n",
       "      <td>Classical music</td>\n",
       "      <td>0.581</td>\n",
       "    </tr>\n",
       "    <tr>\n",
       "      <th>7</th>\n",
       "      <td>Snakes</td>\n",
       "      <td>Rats</td>\n",
       "      <td>0.568</td>\n",
       "    </tr>\n",
       "    <tr>\n",
       "      <th>8</th>\n",
       "      <td>Weight</td>\n",
       "      <td>Gender_vec</td>\n",
       "      <td>0.542</td>\n",
       "    </tr>\n",
       "    <tr>\n",
       "      <th>9</th>\n",
       "      <td>Punk</td>\n",
       "      <td>Metal or Hardrock</td>\n",
       "      <td>0.542</td>\n",
       "    </tr>\n",
       "  </tbody>\n",
       "</table>\n",
       "</div>"
      ],
      "text/plain": [
       "                 key_1              key_2  pearson\n",
       "0             Medicine            Biology    0.675\n",
       "1            Chemistry            Biology    0.658\n",
       "2  Fantasy/Fairy tales           Animated    0.651\n",
       "3     Shopping centres           Shopping    0.644\n",
       "4             Medicine          Chemistry    0.612\n",
       "5              Physics        Mathematics    0.587\n",
       "6                Opera    Classical music    0.581\n",
       "7               Snakes               Rats    0.568\n",
       "8               Weight         Gender_vec    0.542\n",
       "9                 Punk  Metal or Hardrock    0.542"
      ]
     },
     "execution_count": 13,
     "metadata": {},
     "output_type": "execute_result"
    }
   ],
   "source": [
    "graph.run(\"\"\"\n",
    "MATCH (p:Person)\n",
    "WITH p LIMIT 1\n",
    "WITH filter(x in keys(p) where not x in ['Gender','Left - right handed','Lying','Alcohol','Education','Smoking','House - block of flats','Village - town','Punctuality','Internet usage','Personality','Music','Dreams','Movies','Fun with friends','Comedy']) as all_keys\n",
    "MATCH (p1:Person)\n",
    "UNWIND all_keys as key_1\n",
    "UNWIND all_keys as key_2\n",
    "WITH key_1,key_2,p1\n",
    "WHERE key_1 > key_2\n",
    "WITH key_1,key_2, collect(coalesce(p1[key_1],0)) as vector_1,collect(coalesce(p1[key_2],0)) as vector_2\n",
    "RETURN key_1,key_2, algo.similarity.pearson(vector_1, vector_2) as pearson\n",
    "ORDER BY pearson DESC limit 10\n",
    "\"\"\").to_data_frame()"
   ]
  },
  {
   "cell_type": "markdown",
   "metadata": {},
   "source": [
    "Results show nothing surprising. The only one I found interesting was the correlation between snakes and rats.\n",
    "We will exclude the following questions due to high correlation from further analysis:\n",
    "“Medicine”\n",
    "“Chemistry”\n",
    "“Shopping centres”\n",
    "“Physics”\n",
    "“Opera”\n",
    "“Animated”"
   ]
  },
  {
   "cell_type": "markdown",
   "metadata": {},
   "source": [
    "Pearson similarity algorithm\n",
    "Now that we have completed the preprocessing step we will infer a similarity network between nodes based on the Pearson correlation of the features(answers) of nodes that we haven’t excluded.\n",
    "In this step we need all the features we will use in our analysis to be normalized between one and five as now, we will fit all the features of the node in a single vector and calculate correlations between them.\n",
    "Min-max normalization\n",
    "Three of the features are not normalized between one to five. These are\n",
    "‘Height’\n",
    "“Number of siblings”\n",
    "‘Weight’\n",
    "Normalize height property between one to five. We won’t use the other two."
   ]
  },
  {
   "cell_type": "code",
   "execution_count": 14,
   "metadata": {},
   "outputs": [
    {
     "data": {
      "text/plain": [
       "constraints_added: 0\n",
       "constraints_removed: 0\n",
       "contained_updates: True\n",
       "indexes_added: 0\n",
       "indexes_removed: 0\n",
       "labels_added: 0\n",
       "labels_removed: 0\n",
       "nodes_created: 0\n",
       "nodes_deleted: 0\n",
       "properties_set: 990\n",
       "relationships_created: 0\n",
       "relationships_deleted: 0"
      ]
     },
     "execution_count": 14,
     "metadata": {},
     "output_type": "execute_result"
    }
   ],
   "source": [
    "graph.run(\"\"\"\n",
    "MATCH (p:Person)\n",
    "//get the the max and min value\n",
    "WITH max(p.`Height`) as max,min(p.`Height`) as min\n",
    "MATCH (p1:Person)\n",
    "//normalize\n",
    "SET p1.Height_nor = 5.0 *(p1.`Height` - min) / (max - min);\n",
    "\"\"\").stats()"
   ]
  },
  {
   "cell_type": "markdown",
   "metadata": {},
   "source": [
    "Similarity network\n",
    "We grab all the features and infer the similarity network. We always want to use similarityCutoff parameter and optionally topK parameter to prevent ending up with a complete graph, where all nodes are connected between each other. Here we use similarityCutoff: 0.75 and topK: 5. "
   ]
  },
  {
   "cell_type": "code",
   "execution_count": 15,
   "metadata": {},
   "outputs": [
    {
     "data": {
      "text/html": [
       "<div>\n",
       "<style scoped>\n",
       "    .dataframe tbody tr th:only-of-type {\n",
       "        vertical-align: middle;\n",
       "    }\n",
       "\n",
       "    .dataframe tbody tr th {\n",
       "        vertical-align: top;\n",
       "    }\n",
       "\n",
       "    .dataframe thead th {\n",
       "        text-align: right;\n",
       "    }\n",
       "</style>\n",
       "<table border=\"1\" class=\"dataframe\">\n",
       "  <thead>\n",
       "    <tr style=\"text-align: right;\">\n",
       "      <th></th>\n",
       "      <th>nodes</th>\n",
       "      <th>similarityPairs</th>\n",
       "    </tr>\n",
       "  </thead>\n",
       "  <tbody>\n",
       "    <tr>\n",
       "      <th>0</th>\n",
       "      <td>1010</td>\n",
       "      <td>4254</td>\n",
       "    </tr>\n",
       "  </tbody>\n",
       "</table>\n",
       "</div>"
      ],
      "text/plain": [
       "   nodes  similarityPairs\n",
       "0   1010             4254"
      ]
     },
     "execution_count": 15,
     "metadata": {},
     "output_type": "execute_result"
    }
   ],
   "source": [
    "graph.run(\"\"\"\n",
    "MATCH (p:Person)\n",
    "WITH p LIMIT 1\n",
    "WITH filter(x in keys(p) where not x in ['Gender','Left - right handed','Lying','Alcohol','Education','Smoking','House - block of flats','Village - town','Punctuality','Internet usage','Personality','Music','Dreams','Movies','Fun with friends','Comedy','Medicine','Chemistry','Shopping centres','Physics','Opera','Animated','Height','Weight','Number of siblings']) as all_keys\n",
    "MATCH (p1:Person)\n",
    "UNWIND all_keys as key\n",
    "WITH {item:id(p1), weights: collect(coalesce(p1[key],3))} as personData\n",
    "WITH collect(personData) as data\n",
    "CALL algo.similarity.pearson(data, {similarityCutoff: 0.75,topK:5,write:true})\n",
    "YIELD nodes, similarityPairs\n",
    "RETURN nodes, similarityPairs\n",
    "\"\"\").to_data_frame()"
   ]
  },
  {
   "cell_type": "markdown",
   "metadata": {},
   "source": [
    "Community detection\n",
    "Now that we have inferred a similarity network in our graph, we will try to find communities of similar persons with the help of Louvain algorithm"
   ]
  },
  {
   "cell_type": "code",
   "execution_count": 16,
   "metadata": {},
   "outputs": [
    {
     "data": {
      "text/html": [
       "<div>\n",
       "<style scoped>\n",
       "    .dataframe tbody tr th:only-of-type {\n",
       "        vertical-align: middle;\n",
       "    }\n",
       "\n",
       "    .dataframe tbody tr th {\n",
       "        vertical-align: top;\n",
       "    }\n",
       "\n",
       "    .dataframe thead th {\n",
       "        text-align: right;\n",
       "    }\n",
       "</style>\n",
       "<table border=\"1\" class=\"dataframe\">\n",
       "  <thead>\n",
       "    <tr style=\"text-align: right;\">\n",
       "      <th></th>\n",
       "      <th>communityCount</th>\n",
       "      <th>nodes</th>\n",
       "    </tr>\n",
       "  </thead>\n",
       "  <tbody>\n",
       "    <tr>\n",
       "      <th>0</th>\n",
       "      <td>104</td>\n",
       "      <td>1010</td>\n",
       "    </tr>\n",
       "  </tbody>\n",
       "</table>\n",
       "</div>"
      ],
      "text/plain": [
       "   communityCount  nodes\n",
       "0             104   1010"
      ]
     },
     "execution_count": 16,
     "metadata": {},
     "output_type": "execute_result"
    }
   ],
   "source": [
    "graph.run(\"\"\"\n",
    "CALL algo.louvain('Person','SIMILAR')\n",
    "YIELD nodes,communityCount\n",
    "\"\"\").to_data_frame()"
   ]
  },
  {
   "cell_type": "markdown",
   "metadata": {},
   "source": [
    "Apoc.group.nodes\n",
    "For a quick overview of community detection results in Neo4j Browser, we can use apoc.group.nodes. We define the labels we want to include and group by a certain property. In the config part, we define which aggregations we want to perform and get returned in the visualization. "
   ]
  },
  {
   "cell_type": "code",
   "execution_count": 18,
   "metadata": {},
   "outputs": [
    {
     "data": {
      "text/plain": [
       "constraints_added: 0\n",
       "constraints_removed: 0\n",
       "contained_updates: False\n",
       "indexes_added: 0\n",
       "indexes_removed: 0\n",
       "labels_added: 0\n",
       "labels_removed: 0\n",
       "nodes_created: 0\n",
       "nodes_deleted: 0\n",
       "properties_set: 0\n",
       "relationships_created: 0\n",
       "relationships_deleted: 0"
      ]
     },
     "execution_count": 18,
     "metadata": {},
     "output_type": "execute_result"
    }
   ],
   "source": [
    "graph.run(\"\"\"\n",
    "CALL apoc.nodes.group(['Person'],['community'], \n",
    "[{`*`:'count', Age:['avg','std'],Alcohol_vec:['avg']}, {`*`:'count'} ])\n",
    "YIELD nodes, relationships\n",
    "UNWIND nodes as node \n",
    "UNWIND relationships as rel\n",
    "RETURN node, rel;\n",
    "\"\"\").stats()"
   ]
  },
  {
   "cell_type": "markdown",
   "metadata": {},
   "source": [
    "Community preferences\n",
    "To get to know our communities better, we will examine their average top and bottom 3 preferences."
   ]
  },
  {
   "cell_type": "code",
   "execution_count": 19,
   "metadata": {},
   "outputs": [
    {
     "data": {
      "text/html": [
       "<div>\n",
       "<style scoped>\n",
       "    .dataframe tbody tr th:only-of-type {\n",
       "        vertical-align: middle;\n",
       "    }\n",
       "\n",
       "    .dataframe tbody tr th {\n",
       "        vertical-align: top;\n",
       "    }\n",
       "\n",
       "    .dataframe thead th {\n",
       "        text-align: right;\n",
       "    }\n",
       "</style>\n",
       "<table border=\"1\" class=\"dataframe\">\n",
       "  <thead>\n",
       "    <tr style=\"text-align: right;\">\n",
       "      <th></th>\n",
       "      <th>bottom_3</th>\n",
       "      <th>community</th>\n",
       "      <th>male_percentage</th>\n",
       "      <th>size</th>\n",
       "      <th>top_3</th>\n",
       "    </tr>\n",
       "  </thead>\n",
       "  <tbody>\n",
       "    <tr>\n",
       "      <th>0</th>\n",
       "      <td>[Gardening, Storm, Writing]</td>\n",
       "      <td>4</td>\n",
       "      <td>0.921</td>\n",
       "      <td>229</td>\n",
       "      <td>[Action, Cheating in school, Judgment calls]</td>\n",
       "    </tr>\n",
       "    <tr>\n",
       "      <th>1</th>\n",
       "      <td>[Metal or Hardrock, Writing, Western]</td>\n",
       "      <td>5</td>\n",
       "      <td>0.004</td>\n",
       "      <td>228</td>\n",
       "      <td>[Empathy, Romantic, Compassion to animals]</td>\n",
       "    </tr>\n",
       "    <tr>\n",
       "      <th>2</th>\n",
       "      <td>[Western, Fake, Hypochondria]</td>\n",
       "      <td>0</td>\n",
       "      <td>0.005</td>\n",
       "      <td>190</td>\n",
       "      <td>[Fantasy/Fairy tales, Compassion to animals, E...</td>\n",
       "    </tr>\n",
       "    <tr>\n",
       "      <th>3</th>\n",
       "      <td>[Gardening, Darkness, Storm]</td>\n",
       "      <td>2</td>\n",
       "      <td>0.736</td>\n",
       "      <td>159</td>\n",
       "      <td>[Keeping promises, Countryside, outdoors, Docu...</td>\n",
       "    </tr>\n",
       "    <tr>\n",
       "      <th>4</th>\n",
       "      <td>[Rats, Storm, Celebrities]</td>\n",
       "      <td>1</td>\n",
       "      <td>0.553</td>\n",
       "      <td>103</td>\n",
       "      <td>[Rock, Keeping promises, Compassion to animals]</td>\n",
       "    </tr>\n",
       "    <tr>\n",
       "      <th>5</th>\n",
       "      <td>[Heights, Western, Storm]</td>\n",
       "      <td>75</td>\n",
       "      <td>0.000</td>\n",
       "      <td>2</td>\n",
       "      <td>[Reliability, Reading, Countryside, outdoors]</td>\n",
       "    </tr>\n",
       "    <tr>\n",
       "      <th>6</th>\n",
       "      <td>[Getting up, Spending on gadgets, Western]</td>\n",
       "      <td>44</td>\n",
       "      <td>0.000</td>\n",
       "      <td>2</td>\n",
       "      <td>[Politics, Reliability, Romantic]</td>\n",
       "    </tr>\n",
       "    <tr>\n",
       "      <th>7</th>\n",
       "      <td>[Western, Reggae, Ska, Storm]</td>\n",
       "      <td>40</td>\n",
       "      <td>0.000</td>\n",
       "      <td>1</td>\n",
       "      <td>[Countryside, outdoors, Internet_vec, Reliabil...</td>\n",
       "    </tr>\n",
       "    <tr>\n",
       "      <th>8</th>\n",
       "      <td>[Alternative, Cheating in school, Western]</td>\n",
       "      <td>30</td>\n",
       "      <td>0.000</td>\n",
       "      <td>1</td>\n",
       "      <td>[Compassion to animals, Eating to survive, Rel...</td>\n",
       "    </tr>\n",
       "    <tr>\n",
       "      <th>9</th>\n",
       "      <td>[Western, History, Folk]</td>\n",
       "      <td>15</td>\n",
       "      <td>0.000</td>\n",
       "      <td>1</td>\n",
       "      <td>[Dangerous dogs, Reliability, Reading]</td>\n",
       "    </tr>\n",
       "  </tbody>\n",
       "</table>\n",
       "</div>"
      ],
      "text/plain": [
       "                                     bottom_3  community  male_percentage  \\\n",
       "0                 [Gardening, Storm, Writing]          4            0.921   \n",
       "1       [Metal or Hardrock, Writing, Western]          5            0.004   \n",
       "2               [Western, Fake, Hypochondria]          0            0.005   \n",
       "3                [Gardening, Darkness, Storm]          2            0.736   \n",
       "4                  [Rats, Storm, Celebrities]          1            0.553   \n",
       "5                   [Heights, Western, Storm]         75            0.000   \n",
       "6  [Getting up, Spending on gadgets, Western]         44            0.000   \n",
       "7               [Western, Reggae, Ska, Storm]         40            0.000   \n",
       "8  [Alternative, Cheating in school, Western]         30            0.000   \n",
       "9                    [Western, History, Folk]         15            0.000   \n",
       "\n",
       "   size                                              top_3  \n",
       "0   229       [Action, Cheating in school, Judgment calls]  \n",
       "1   228         [Empathy, Romantic, Compassion to animals]  \n",
       "2   190  [Fantasy/Fairy tales, Compassion to animals, E...  \n",
       "3   159  [Keeping promises, Countryside, outdoors, Docu...  \n",
       "4   103    [Rock, Keeping promises, Compassion to animals]  \n",
       "5     2      [Reliability, Reading, Countryside, outdoors]  \n",
       "6     2                  [Politics, Reliability, Romantic]  \n",
       "7     1  [Countryside, outdoors, Internet_vec, Reliabil...  \n",
       "8     1  [Compassion to animals, Eating to survive, Rel...  \n",
       "9     1             [Dangerous dogs, Reliability, Reading]  "
      ]
     },
     "execution_count": 19,
     "metadata": {},
     "output_type": "execute_result"
    }
   ],
   "source": [
    "graph.run(\"\"\"\n",
    "MATCH (p:Person)\n",
    "WITH p LIMIT 1\n",
    "WITH filter(x in keys(p) where not x in ['Gender','Left - right handed','Lying','Alcohol','Education','Smoking','House - block of flats','Village - town','Punctuality','Internet usage','Personality','Music','Dreams','Movies','Fun with friends','Height','Number of siblings','Weight','Medicine', 'Chemistry', 'Shopping centres', 'Physics', 'Opera','Age','community','Comedy','Gender_vec','Internet','Height_nor']) as all_keys\n",
    "MATCH (p1:Person)\n",
    "UNWIND all_keys as key\n",
    "WITH p1.community as community,\n",
    "     count(*) as size,\n",
    "     SUM(CASE WHEN p1.Gender = 'male' THEN 1 ELSE 0 END) as males,\n",
    "     key,\n",
    "     avg(p1[key]) as average,\n",
    "     stdev(p1[key]) as std\n",
    "ORDER BY average DESC\n",
    "WITH community,\n",
    "     size,\n",
    "     toFloat(males) / size as male_percentage,\n",
    "     collect(key) as all_avg\n",
    "ORDER BY size DESC limit 10\n",
    "RETURN community,size,male_percentage, \n",
    "       all_avg[..3] as top_3,\n",
    "       all_avg[-3..] as bottom_3;\n",
    "\"\"\").to_data_frame()"
   ]
  },
  {
   "cell_type": "markdown",
   "metadata": {},
   "source": [
    "Results are quite interesting. Just looking at the male percentage it is safe to say that the communities are almost all based on gender.\n",
    "The biggest community are 220 ladies, who strongly agree with “Compassion to animals”, “Romantic” and interestingly “Borrowed stuff” but disagree with “Metal”, “Western” and “Writing”. Second biggest community, mostly male, agree with “Cheating in school”, “Action” and “PC”. They also don’t agree with “Writing”. Makes sense as the survey was filled out by students from Slovakia."
   ]
  },
  {
   "cell_type": "markdown",
   "metadata": {},
   "source": [
    "Gephi visualization\n",
    "Let’s finish off with a nice visualization of our communities in Gephi. You need to have the streaming plugin enabled in Gephi and then we can export the graph from Neo4j using the APOC procedure apoc.gephi.add."
   ]
  },
  {
   "cell_type": "code",
   "execution_count": 20,
   "metadata": {},
   "outputs": [
    {
     "name": "stderr",
     "output_type": "stream",
     "text": [
      "Failed to write data to connection ('localhost', 7687) (Address(host='127.0.0.1', port=7687)); (\"10054; 'An existing connection was forcibly closed by the remote host'; None; 10054; None\")\n"
     ]
    },
    {
     "data": {
      "text/plain": [
       "constraints_added: 0\n",
       "constraints_removed: 0\n",
       "contained_updates: False\n",
       "indexes_added: 0\n",
       "indexes_removed: 0\n",
       "labels_added: 0\n",
       "labels_removed: 0\n",
       "nodes_created: 0\n",
       "nodes_deleted: 0\n",
       "properties_set: 0\n",
       "relationships_created: 0\n",
       "relationships_deleted: 0"
      ]
     },
     "execution_count": 20,
     "metadata": {},
     "output_type": "execute_result"
    }
   ],
   "source": [
    "graph.run(\"\"\"\n",
    "MATCH path = (:Person)-[:SIMILAR]->(:Person)\n",
    "CALL apoc.gephi.add(null,'workspace1',path,'weight',['community']) yield nodes\n",
    "return distinct 'done'\n",
    "\"\"\").stats()"
   ]
  },
  {
   "cell_type": "code",
   "execution_count": null,
   "metadata": {},
   "outputs": [],
   "source": []
  }
 ],
 "metadata": {
  "kernelspec": {
   "display_name": "Python 3",
   "language": "python",
   "name": "python3"
  },
  "language_info": {
   "codemirror_mode": {
    "name": "ipython",
    "version": 3
   },
   "file_extension": ".py",
   "mimetype": "text/x-python",
   "name": "python",
   "nbconvert_exporter": "python",
   "pygments_lexer": "ipython3",
   "version": "3.7.3"
  }
 },
 "nbformat": 4,
 "nbformat_minor": 2
}
